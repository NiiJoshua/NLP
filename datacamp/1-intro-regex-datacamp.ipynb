{
 "cells": [
  {
   "cell_type": "code",
   "execution_count": 1,
   "id": "f954e657",
   "metadata": {},
   "outputs": [],
   "source": [
    "import re"
   ]
  },
  {
   "cell_type": "code",
   "execution_count": 2,
   "id": "474f5b7b",
   "metadata": {},
   "outputs": [],
   "source": [
    "my_string = \"Let's write RegEx!\""
   ]
  },
  {
   "cell_type": "code",
   "execution_count": 3,
   "id": "45baca97",
   "metadata": {},
   "outputs": [
    {
     "data": {
      "text/plain": [
       "['Let', 's', 'write', 'RegEx']"
      ]
     },
     "execution_count": 3,
     "metadata": {},
     "output_type": "execute_result"
    }
   ],
   "source": [
    "re.findall(r\"\\w+\",my_string)"
   ]
  },
  {
   "cell_type": "code",
   "execution_count": 4,
   "id": "1c38d28d",
   "metadata": {},
   "outputs": [],
   "source": [
    "my_string_1 = \"Let's write RegEx!  Won't that be fun?  I sure think so.  Can you find 4 sentences?  Or perhaps, all 19 words?\""
   ]
  },
  {
   "cell_type": "code",
   "execution_count": 15,
   "id": "1230691f",
   "metadata": {},
   "outputs": [
    {
     "data": {
      "text/plain": [
       "[\"Let's write RegEx!\",\n",
       " \"  Won't that be fun?\",\n",
       " '  I sure think so.',\n",
       " '  Can you find 4 sentences?',\n",
       " '  Or perhaps, all 19 words?']"
      ]
     },
     "execution_count": 15,
     "metadata": {},
     "output_type": "execute_result"
    }
   ],
   "source": [
    "re.findall(r\"[^.?!]+[.?!]\",my_string_1) #find all sentences"
   ]
  },
  {
   "cell_type": "code",
   "execution_count": 13,
   "id": "0d1ccaa0",
   "metadata": {},
   "outputs": [
    {
     "name": "stdout",
     "output_type": "stream",
     "text": [
      "['Let', 'RegEx', 'Won', 'Can', 'Or']\n"
     ]
    }
   ],
   "source": [
    "# Find capitalized words\n",
    "capitalized_words = re.findall(r\"[A-Z]\\w+\", my_string_1)\n",
    "\n",
    "print(capitalized_words)\n"
   ]
  },
  {
   "cell_type": "code",
   "execution_count": 12,
   "id": "0a2df2e2",
   "metadata": {},
   "outputs": [
    {
     "name": "stdout",
     "output_type": "stream",
     "text": [
      "[\"Let's\", 'write', 'RegEx!', \"Won't\", 'that', 'be', 'fun?', 'I', 'sure', 'think', 'so.', 'Can', 'you', 'find', '4', 'sentences?', 'Or', 'perhaps,', 'all', '19', 'words?']\n"
     ]
    }
   ],
   "source": [
    "\n",
    "# Split the words on spaces\n",
    "words = re.split(r\"\\s+\", my_string_1)\n",
    "\n",
    "# Print the words\n",
    "print(words)\n"
   ]
  },
  {
   "cell_type": "code",
   "execution_count": 11,
   "id": "f7081391",
   "metadata": {},
   "outputs": [
    {
     "name": "stdout",
     "output_type": "stream",
     "text": [
      "['4', '19']\n"
     ]
    }
   ],
   "source": [
    "# Find all digits\n",
    "digits = re.findall(r\"\\d+\", my_string_1)\n",
    "\n",
    "# Print the digits\n",
    "print(digits)\n"
   ]
  },
  {
   "cell_type": "code",
   "execution_count": null,
   "id": "57101c30",
   "metadata": {},
   "outputs": [],
   "source": []
  }
 ],
 "metadata": {
  "kernelspec": {
   "display_name": "Python 3 (ipykernel)",
   "language": "python",
   "name": "python3"
  },
  "language_info": {
   "codemirror_mode": {
    "name": "ipython",
    "version": 3
   },
   "file_extension": ".py",
   "mimetype": "text/x-python",
   "name": "python",
   "nbconvert_exporter": "python",
   "pygments_lexer": "ipython3",
   "version": "3.11.3"
  }
 },
 "nbformat": 4,
 "nbformat_minor": 5
}
