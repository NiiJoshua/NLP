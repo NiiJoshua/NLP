{
 "cells": [
  {
   "cell_type": "markdown",
   "metadata": {},
   "source": [
    "### Lesson taken from Geek for Geeeks\n",
    "* Find [link here](https://www.geeksforgeeks.org/python-regex/?ref=lbp)"
   ]
  },
  {
   "cell_type": "code",
   "execution_count": 2,
   "metadata": {},
   "outputs": [],
   "source": [
    "import re"
   ]
  },
  {
   "cell_type": "code",
   "execution_count": 3,
   "metadata": {},
   "outputs": [
    {
     "name": "stdout",
     "output_type": "stream",
     "text": [
      "<re.Match object; span=(34, 40), match='portal'>\n",
      "portal\n",
      "Start Index: 34\n",
      "End Index: 40\n"
     ]
    }
   ],
   "source": [
    "text = \"GeeksforGeeks: A computer science portal for geeks\"\n",
    "\n",
    "match = re.search(r'portal', text)\n",
    "# r stands for raw\n",
    "\n",
    "print(match)\n",
    "print(match.group())\n",
    "\n",
    "print('Start Index:', match.start())\n",
    "print(\"End Index:\", match.end())"
   ]
  },
  {
   "cell_type": "markdown",
   "metadata": {},
   "source": [
    "#### Character Classes"
   ]
  },
  {
   "cell_type": "code",
   "execution_count": null,
   "metadata": {},
   "outputs": [],
   "source": []
  },
  {
   "cell_type": "code",
   "execution_count": 4,
   "metadata": {},
   "outputs": [
    {
     "name": "stdout",
     "output_type": "stream",
     "text": [
      "['Geeks', 'Geeks', 'geeks']\n"
     ]
    }
   ],
   "source": [
    "print(re.findall(r'[Gg]eeks', text))"
   ]
  },
  {
   "cell_type": "markdown",
   "metadata": {},
   "source": [
    "#### Ranges"
   ]
  },
  {
   "cell_type": "code",
   "execution_count": 5,
   "metadata": {},
   "outputs": [
    {
     "name": "stdout",
     "output_type": "stream",
     "text": [
      "Range <re.Match object; span=(0, 1), match='x'>\n"
     ]
    }
   ],
   "source": [
    "print('Range', re.search(r'[a-zA-A]', 'x'))"
   ]
  },
  {
   "cell_type": "markdown",
   "metadata": {},
   "source": [
    "#### Negation"
   ]
  },
  {
   "cell_type": "code",
   "execution_count": 6,
   "metadata": {},
   "outputs": [
    {
     "name": "stdout",
     "output_type": "stream",
     "text": [
      "None\n"
     ]
    }
   ],
   "source": [
    "print(re.search(r'[^a-z]', 'c'))"
   ]
  },
  {
   "cell_type": "code",
   "execution_count": 7,
   "metadata": {},
   "outputs": [
    {
     "name": "stdout",
     "output_type": "stream",
     "text": [
      "None\n"
     ]
    }
   ],
   "source": [
    "print(re.search(r'G[^e]', 'Geeks'))"
   ]
  },
  {
   "cell_type": "markdown",
   "metadata": {},
   "source": [
    "### Shortcuts\n",
    "Let’s discuss some of the shortcuts provided by the regular expression engine.\n",
    "\n",
    "* \\w – matches a word character\n",
    "* \\d – matches digit character\n",
    "* \\s – matches whitespace character (space, tab, newline, etc.)\n",
    "* \\b – matches a zero-length character"
   ]
  },
  {
   "cell_type": "code",
   "execution_count": 8,
   "metadata": {},
   "outputs": [
    {
     "name": "stdout",
     "output_type": "stream",
     "text": [
      "Geeks <re.Match object; span=(0, 5), match='Geeks'>\n",
      "GeeksforGeeks None\n"
     ]
    }
   ],
   "source": [
    "print('Geeks', re.search(r'\\bGeeks\\b', 'Geeks'))\n",
    "print('GeeksforGeeks', re.search(r'\\bGeeks\\b', 'GeeksforGeeks'))"
   ]
  },
  {
   "cell_type": "code",
   "execution_count": null,
   "metadata": {},
   "outputs": [],
   "source": []
  }
 ],
 "metadata": {
  "kernelspec": {
   "display_name": "nlp",
   "language": "python",
   "name": "python3"
  },
  "language_info": {
   "codemirror_mode": {
    "name": "ipython",
    "version": 3
   },
   "file_extension": ".py",
   "mimetype": "text/x-python",
   "name": "python",
   "nbconvert_exporter": "python",
   "pygments_lexer": "ipython3",
   "version": "3.11.3"
  },
  "orig_nbformat": 4
 },
 "nbformat": 4,
 "nbformat_minor": 2
}
